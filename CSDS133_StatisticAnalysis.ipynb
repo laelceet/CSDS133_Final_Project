{
 "cells": [
  {
   "cell_type": "code",
   "execution_count": 1,
   "id": "9586214b",
   "metadata": {},
   "outputs": [
    {
     "name": "stdout",
     "output_type": "stream",
     "text": [
      "       CountryName CountryCode      Date  ConfirmedCases  ConfirmedDeaths  \\\n",
      "0            Aruba         ABW  20200101             0.0              0.0   \n",
      "1            Aruba         ABW  20200102             0.0              0.0   \n",
      "2            Aruba         ABW  20200103             0.0              0.0   \n",
      "3            Aruba         ABW  20200104             0.0              0.0   \n",
      "4            Aruba         ABW  20200105             0.0              0.0   \n",
      "...            ...         ...       ...             ...              ...   \n",
      "241991    Zimbabwe         ZWE  20220308        240343.0           5400.0   \n",
      "241992    Zimbabwe         ZWE  20220309        240343.0           5400.0   \n",
      "241993    Zimbabwe         ZWE  20220310        241548.0           5408.0   \n",
      "241994    Zimbabwe         ZWE  20220311        241548.0           5408.0   \n",
      "241995    Zimbabwe         ZWE  20220312        242069.0           5412.0   \n",
      "\n",
      "        GovernmentResponseIndex  Year  Month  Day  \n",
      "0                      0.000000  2020      1    1  \n",
      "1                      0.000000  2020      1    2  \n",
      "2                      0.000000  2020      1    3  \n",
      "3                      0.000000  2020      1    4  \n",
      "4                      0.000000  2020      1    5  \n",
      "...                         ...   ...    ...  ...  \n",
      "241991                50.834717  2022      3    8  \n",
      "241992                50.834717  2022      3    9  \n",
      "241993                50.834601  2022      3   10  \n",
      "241994                50.834601  2022      3   11  \n",
      "241995                50.834587  2022      3   12  \n",
      "\n",
      "[241996 rows x 9 columns]\n",
      "Government Response Index and Confirmed Cases\n",
      "Pearsons correlation: 0.074\n",
      "Spearmans correlation: 0.318\n",
      "\n",
      "Governmnet Response Index and Confirmed Deaths\n",
      "Pearsons correlation: 0.093\n",
      "Spearmans correlation: 0.316\n"
     ]
    }
   ],
   "source": [
    "import numpy as np\n",
    "import pandas as pd\n",
    "import matplotlib.pyplot as plt\n",
    "import seaborn as sb\n",
    "from scipy.stats import spearmanr\n",
    "from scipy.stats import pearsonr\n",
    "\n",
    "# read the csv\n",
    "data = pd.read_csv(\"CSDS133FINALDATA.csv\")\n",
    "\n",
    "del data['Unnamed: 0']\n",
    "print(data)\n",
    "\n",
    "print(\"Government Response Index and Confirmed Cases\")\n",
    "# Pearson's Correlation Between Confirmed Cases and Government Response Index\n",
    "pcorr1, _ = pearsonr(data[\"GovernmentResponseIndex\"], data[\"ConfirmedCases\"])\n",
    "print('Pearsons correlation: %.3f' % pcorr1)\n",
    "\n",
    "# Spearman's Correlation Between Confirmed Cases and Government Response Index\n",
    "scorr1, _ = spearmanr(data[\"GovernmentResponseIndex\"], data[\"ConfirmedCases\"])\n",
    "print('Spearmans correlation: %.3f' % scorr1)\n",
    "\n",
    "print(\"\")\n",
    "\n",
    "\n",
    "print(\"Governmnet Response Index and Confirmed Deaths\")\n",
    "\n",
    "# Pearson's Correlation Between Confirmed Deaths and Government Response Index\n",
    "pcorr2, _ = pearsonr(data[\"GovernmentResponseIndex\"], data[\"ConfirmedDeaths\"])\n",
    "print('Pearsons correlation: %.3f' % pcorr2)\n",
    "\n",
    "# Spearman's Correlation Between Confirmed Deaths and Government Response Index\n",
    "scorr2, _ = spearmanr(data[\"GovernmentResponseIndex\"], data[\"ConfirmedDeaths\"])\n",
    "print('Spearmans correlation: %.3f' % scorr2)\n"
   ]
  },
  {
   "cell_type": "code",
   "execution_count": null,
   "id": "a5c786b6",
   "metadata": {},
   "outputs": [],
   "source": []
  }
 ],
 "metadata": {
  "kernelspec": {
   "display_name": "Python 3 (ipykernel)",
   "language": "python",
   "name": "python3"
  },
  "language_info": {
   "codemirror_mode": {
    "name": "ipython",
    "version": 3
   },
   "file_extension": ".py",
   "mimetype": "text/x-python",
   "name": "python",
   "nbconvert_exporter": "python",
   "pygments_lexer": "ipython3",
   "version": "3.9.7"
  }
 },
 "nbformat": 4,
 "nbformat_minor": 5
}
